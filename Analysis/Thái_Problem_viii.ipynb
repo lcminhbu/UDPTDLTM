{
 "cells": [
  {
   "cell_type": "markdown",
   "id": "1f640537",
   "metadata": {},
   "source": [
    "# Khu vực nào có giá cả trung bình cao/thấp nhất?"
   ]
  },
  {
   "cell_type": "markdown",
   "id": "ac9392da",
   "metadata": {},
   "source": [
    "# Thư viện"
   ]
  },
  {
   "cell_type": "code",
   "execution_count": 82,
   "id": "def2b3bf",
   "metadata": {},
   "outputs": [],
   "source": [
    "import pandas as pd\n",
    "import numpy as np\n",
    "import matplotlib.pyplot as plt"
   ]
  },
  {
   "cell_type": "markdown",
   "id": "d7d694cf",
   "metadata": {},
   "source": [
    "# Dữ liệu"
   ]
  },
  {
   "cell_type": "code",
   "execution_count": 3,
   "id": "6e604eaf",
   "metadata": {},
   "outputs": [
    {
     "data": {
      "text/html": [
       "<div>\n",
       "<style scoped>\n",
       "    .dataframe tbody tr th:only-of-type {\n",
       "        vertical-align: middle;\n",
       "    }\n",
       "\n",
       "    .dataframe tbody tr th {\n",
       "        vertical-align: top;\n",
       "    }\n",
       "\n",
       "    .dataframe thead th {\n",
       "        text-align: right;\n",
       "    }\n",
       "</style>\n",
       "<table border=\"1\" class=\"dataframe\">\n",
       "  <thead>\n",
       "    <tr style=\"text-align: right;\">\n",
       "      <th></th>\n",
       "      <th>Link</th>\n",
       "      <th>Food_Name</th>\n",
       "      <th>Price</th>\n",
       "      <th>district</th>\n",
       "      <th>average_score</th>\n",
       "      <th>quality_score</th>\n",
       "      <th>serve_score</th>\n",
       "      <th>price_score</th>\n",
       "      <th>position_score</th>\n",
       "      <th>space_score</th>\n",
       "    </tr>\n",
       "  </thead>\n",
       "  <tbody>\n",
       "    <tr>\n",
       "      <th>0</th>\n",
       "      <td>https://www.foody.vn/ho-chi-minh/tra-sua-tiger...</td>\n",
       "      <td>Hổ Vàng Hạt Chia (L)</td>\n",
       "      <td>41000</td>\n",
       "      <td>Quận 1</td>\n",
       "      <td>7.3</td>\n",
       "      <td>7.3</td>\n",
       "      <td>7.5</td>\n",
       "      <td>7.5</td>\n",
       "      <td>7.6</td>\n",
       "      <td>6.8</td>\n",
       "    </tr>\n",
       "    <tr>\n",
       "      <th>1</th>\n",
       "      <td>https://www.foody.vn/ho-chi-minh/tra-sua-tiger...</td>\n",
       "      <td>Đường Nâu Trân Châu Sữa (M)</td>\n",
       "      <td>51000</td>\n",
       "      <td>Quận 1</td>\n",
       "      <td>7.3</td>\n",
       "      <td>7.3</td>\n",
       "      <td>7.5</td>\n",
       "      <td>7.5</td>\n",
       "      <td>7.6</td>\n",
       "      <td>6.8</td>\n",
       "    </tr>\n",
       "    <tr>\n",
       "      <th>2</th>\n",
       "      <td>https://www.foody.vn/ho-chi-minh/tra-sua-tiger...</td>\n",
       "      <td>Đường Nâu Trân Châu Sữa (L)</td>\n",
       "      <td>61000</td>\n",
       "      <td>Quận 1</td>\n",
       "      <td>7.3</td>\n",
       "      <td>7.3</td>\n",
       "      <td>7.5</td>\n",
       "      <td>7.5</td>\n",
       "      <td>7.6</td>\n",
       "      <td>6.8</td>\n",
       "    </tr>\n",
       "    <tr>\n",
       "      <th>3</th>\n",
       "      <td>https://www.foody.vn/ho-chi-minh/tra-sua-tiger...</td>\n",
       "      <td>Đường Nâu Matcha Sữa (L)</td>\n",
       "      <td>64000</td>\n",
       "      <td>Quận 1</td>\n",
       "      <td>7.3</td>\n",
       "      <td>7.3</td>\n",
       "      <td>7.5</td>\n",
       "      <td>7.5</td>\n",
       "      <td>7.6</td>\n",
       "      <td>6.8</td>\n",
       "    </tr>\n",
       "    <tr>\n",
       "      <th>4</th>\n",
       "      <td>https://www.foody.vn/ho-chi-minh/tra-sua-tiger...</td>\n",
       "      <td>Đường Nâu CaCao Sữa (L)</td>\n",
       "      <td>64000</td>\n",
       "      <td>Quận 1</td>\n",
       "      <td>7.3</td>\n",
       "      <td>7.3</td>\n",
       "      <td>7.5</td>\n",
       "      <td>7.5</td>\n",
       "      <td>7.6</td>\n",
       "      <td>6.8</td>\n",
       "    </tr>\n",
       "  </tbody>\n",
       "</table>\n",
       "</div>"
      ],
      "text/plain": [
       "                                                Link  \\\n",
       "0  https://www.foody.vn/ho-chi-minh/tra-sua-tiger...   \n",
       "1  https://www.foody.vn/ho-chi-minh/tra-sua-tiger...   \n",
       "2  https://www.foody.vn/ho-chi-minh/tra-sua-tiger...   \n",
       "3  https://www.foody.vn/ho-chi-minh/tra-sua-tiger...   \n",
       "4  https://www.foody.vn/ho-chi-minh/tra-sua-tiger...   \n",
       "\n",
       "                     Food_Name  Price district  average_score  quality_score  \\\n",
       "0         Hổ Vàng Hạt Chia (L)  41000   Quận 1            7.3            7.3   \n",
       "1  Đường Nâu Trân Châu Sữa (M)  51000   Quận 1            7.3            7.3   \n",
       "2  Đường Nâu Trân Châu Sữa (L)  61000   Quận 1            7.3            7.3   \n",
       "3     Đường Nâu Matcha Sữa (L)  64000   Quận 1            7.3            7.3   \n",
       "4      Đường Nâu CaCao Sữa (L)  64000   Quận 1            7.3            7.3   \n",
       "\n",
       "   serve_score  price_score  position_score  space_score  \n",
       "0          7.5          7.5             7.6          6.8  \n",
       "1          7.5          7.5             7.6          6.8  \n",
       "2          7.5          7.5             7.6          6.8  \n",
       "3          7.5          7.5             7.6          6.8  \n",
       "4          7.5          7.5             7.6          6.8  "
      ]
     },
     "execution_count": 3,
     "metadata": {},
     "output_type": "execute_result"
    }
   ],
   "source": [
    "df = pd.read_csv('preprocessed_menu.csv')\n",
    "df.head()"
   ]
  },
  {
   "cell_type": "code",
   "execution_count": 15,
   "id": "acb6077c",
   "metadata": {},
   "outputs": [],
   "source": [
    "df0 = df.copy()"
   ]
  },
  {
   "cell_type": "markdown",
   "id": "f03b1e27",
   "metadata": {},
   "source": [
    "# Phân tích"
   ]
  },
  {
   "cell_type": "code",
   "execution_count": 17,
   "id": "826e3045",
   "metadata": {},
   "outputs": [],
   "source": [
    "district = [\"Huyện Hóc Môn\",\"Huyện Nhà Bè\",\"Huyện Củ Chi\",\"Huyện Bình Chánh\",\"Quận 9\",\"Huyện Cần Giờ\"]\n",
    "\n",
    "for i in district:\n",
    "    temp = df0[df0['district']==i]\n",
    "    df0.drop(labels=list(temp.index), axis=0, inplace=True)"
   ]
  },
  {
   "cell_type": "code",
   "execution_count": 18,
   "id": "a37e3530",
   "metadata": {},
   "outputs": [],
   "source": [
    "df1 = df0.reset_index(drop=True)"
   ]
  },
  {
   "cell_type": "markdown",
   "id": "e87ddbb7",
   "metadata": {},
   "source": [
    "## Thông số thống kê cơ bản của các khu vực"
   ]
  },
  {
   "cell_type": "code",
   "execution_count": 73,
   "id": "b15286d1",
   "metadata": {},
   "outputs": [],
   "source": [
    "stats_df = pd.DataFrame()"
   ]
  },
  {
   "cell_type": "markdown",
   "id": "fd7baa24",
   "metadata": {},
   "source": [
    "### Giá trung bình"
   ]
  },
  {
   "cell_type": "code",
   "execution_count": 74,
   "id": "7f4ba0a3",
   "metadata": {},
   "outputs": [],
   "source": [
    "stats_df['Mean']= df1.groupby(by='district').mean()['Price'].round(2)\n",
    "#mean_df.head()"
   ]
  },
  {
   "cell_type": "markdown",
   "id": "450d5d57",
   "metadata": {},
   "source": [
    "### Trung vị"
   ]
  },
  {
   "cell_type": "code",
   "execution_count": 75,
   "id": "8f776936",
   "metadata": {},
   "outputs": [],
   "source": [
    "stats_df['Median']= df1.groupby(by='district').median()['Price'].round(2)"
   ]
  },
  {
   "cell_type": "markdown",
   "id": "39c1e43a",
   "metadata": {},
   "source": [
    "### Độ lệch chuẩn"
   ]
  },
  {
   "cell_type": "code",
   "execution_count": 76,
   "id": "815174af",
   "metadata": {},
   "outputs": [],
   "source": [
    "stats_df['STD'] = df1.groupby(by='district').std()['Price'].round(2)\n",
    "#std_df.head()"
   ]
  },
  {
   "cell_type": "markdown",
   "id": "605a552a",
   "metadata": {},
   "source": [
    "### Độ lệch giữa Trung Bình và Trung Vị"
   ]
  },
  {
   "cell_type": "code",
   "execution_count": 77,
   "id": "2aa6a881",
   "metadata": {},
   "outputs": [],
   "source": [
    "stats_df['Mean and Median Difference']= np.abs(stats_df['Mean'] - stats_df['Median'])"
   ]
  },
  {
   "cell_type": "markdown",
   "id": "8b2bf730",
   "metadata": {},
   "source": [
    "### Số lượng món ăn trên 100.000đ và dưới 100.000đ mỗi khu vực"
   ]
  },
  {
   "cell_type": "code",
   "execution_count": 78,
   "id": "9a6aebea",
   "metadata": {},
   "outputs": [],
   "source": [
    "temp0 = df1[['Price', 'district']]\n",
    "data = []\n",
    "price_mark = 100000\n",
    "\n",
    "for i in mean_df.index:\n",
    "    temp1 = temp0[temp0['district']==i]\n",
    "    over = 0\n",
    "    under = 0\n",
    "    \n",
    "    for j in temp1['Price']:\n",
    "        if j <= price_mark:\n",
    "            under += 1\n",
    "        else:\n",
    "            over += 1\n",
    "    \n",
    "    all = over + under\n",
    "    data.append({\"Under_100K\":under,\n",
    "                 \"Over_100K\":over,\n",
    "                 \"Under_100K (%)\":(under*100)/all,\n",
    "                 \"Over_100K (%)\":(over*100)/all})\n",
    "\n",
    "pricemark_df = pd.DataFrame(data=data, index=mean_df.index)\n",
    "\n",
    "for i in pricemark_df.columns:\n",
    "    stats_df[i] = pricemark_df[i].round(2)"
   ]
  },
  {
   "cell_type": "markdown",
   "id": "e1968384",
   "metadata": {},
   "source": [
    "# Trực quan hóa và Nhận xét"
   ]
  },
  {
   "cell_type": "markdown",
   "id": "f6704dad",
   "metadata": {},
   "source": [
    "- Tải và xem trong workbook Tableau: https://public.tableau.com/app/profile/nguyen.thai7140/viz/UDPTDLTM-Menu/Story1?publish=yes"
   ]
  }
 ],
 "metadata": {
  "kernelspec": {
   "display_name": "Python 3 (ipykernel)",
   "language": "python",
   "name": "python3"
  },
  "language_info": {
   "codemirror_mode": {
    "name": "ipython",
    "version": 3
   },
   "file_extension": ".py",
   "mimetype": "text/x-python",
   "name": "python",
   "nbconvert_exporter": "python",
   "pygments_lexer": "ipython3",
   "version": "3.9.12"
  }
 },
 "nbformat": 4,
 "nbformat_minor": 5
}
