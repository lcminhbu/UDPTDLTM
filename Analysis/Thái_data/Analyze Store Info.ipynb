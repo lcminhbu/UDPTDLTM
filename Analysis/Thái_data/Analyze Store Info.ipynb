{
 "cells": [
  {
   "cell_type": "code",
   "execution_count": 1,
   "id": "2208a1b9",
   "metadata": {},
   "outputs": [],
   "source": [
    "import pandas as pd\n",
    "import numpy as np\n",
    "\n",
    "import matplotlib.pyplot as plt"
   ]
  },
  {
   "cell_type": "code",
   "execution_count": 30,
   "id": "ac84b39b",
   "metadata": {
    "scrolled": true
   },
   "outputs": [
    {
     "data": {
      "text/html": [
       "<div>\n",
       "<style scoped>\n",
       "    .dataframe tbody tr th:only-of-type {\n",
       "        vertical-align: middle;\n",
       "    }\n",
       "\n",
       "    .dataframe tbody tr th {\n",
       "        vertical-align: top;\n",
       "    }\n",
       "\n",
       "    .dataframe thead th {\n",
       "        text-align: right;\n",
       "    }\n",
       "</style>\n",
       "<table border=\"1\" class=\"dataframe\">\n",
       "  <thead>\n",
       "    <tr style=\"text-align: right;\">\n",
       "      <th></th>\n",
       "      <th>name</th>\n",
       "      <th>district</th>\n",
       "      <th>review_count</th>\n",
       "      <th>views</th>\n",
       "      <th>quality_score</th>\n",
       "      <th>serve_score</th>\n",
       "      <th>price_score</th>\n",
       "      <th>space_score</th>\n",
       "      <th>position_score</th>\n",
       "      <th>link</th>\n",
       "    </tr>\n",
       "  </thead>\n",
       "  <tbody>\n",
       "    <tr>\n",
       "      <th>0</th>\n",
       "      <td>Dì Ba - Nem Nướng Nha Trang</td>\n",
       "      <td>Quận Gò Vấp</td>\n",
       "      <td>35</td>\n",
       "      <td>3.8K</td>\n",
       "      <td>7.7</td>\n",
       "      <td>7.7</td>\n",
       "      <td>7.5</td>\n",
       "      <td>7.3</td>\n",
       "      <td>7.4</td>\n",
       "      <td>https://www.foody.vn/ho-chi-minh/di-ba-nem-nuo...</td>\n",
       "    </tr>\n",
       "    <tr>\n",
       "      <th>1</th>\n",
       "      <td>Bánh Xèo Bình Định - 238 Lê Đức Thọ</td>\n",
       "      <td>Quận Gò Vấp</td>\n",
       "      <td>9</td>\n",
       "      <td>1.8K</td>\n",
       "      <td>6.9</td>\n",
       "      <td>6.1</td>\n",
       "      <td>7.1</td>\n",
       "      <td>5.9</td>\n",
       "      <td>6.6</td>\n",
       "      <td>https://www.foody.vn/ho-chi-minh/banh-xeo-binh...</td>\n",
       "    </tr>\n",
       "    <tr>\n",
       "      <th>2</th>\n",
       "      <td>Nũng Nịu - Cơm Gà Xối Mỡ - Cây Trâm</td>\n",
       "      <td>Quận Gò Vấp</td>\n",
       "      <td>3</td>\n",
       "      <td>922</td>\n",
       "      <td>3.3</td>\n",
       "      <td>4.7</td>\n",
       "      <td>4.7</td>\n",
       "      <td>4.7</td>\n",
       "      <td>4.7</td>\n",
       "      <td>https://www.foody.vn/ho-chi-minh/nung-niu-com-...</td>\n",
       "    </tr>\n",
       "    <tr>\n",
       "      <th>3</th>\n",
       "      <td>Lẩu Đồng Quê 2 Thống Nhất - Lẩu - 195 Thống Nhất</td>\n",
       "      <td>Quận Gò Vấp</td>\n",
       "      <td>22</td>\n",
       "      <td>10.7K</td>\n",
       "      <td>8.0</td>\n",
       "      <td>6.8</td>\n",
       "      <td>7.9</td>\n",
       "      <td>7.6</td>\n",
       "      <td>7.8</td>\n",
       "      <td>https://www.foody.vn/ho-chi-minh/lau-dong-que-...</td>\n",
       "    </tr>\n",
       "    <tr>\n",
       "      <th>4</th>\n",
       "      <td>Khoai Lang Mật Nướng - Phạm Văn Đồng</td>\n",
       "      <td>Quận Gò Vấp</td>\n",
       "      <td>12</td>\n",
       "      <td>1.5K</td>\n",
       "      <td>9.4</td>\n",
       "      <td>9.6</td>\n",
       "      <td>9.4</td>\n",
       "      <td>9.3</td>\n",
       "      <td>9.3</td>\n",
       "      <td>https://www.foody.vn/ho-chi-minh/khoai-lang-ma...</td>\n",
       "    </tr>\n",
       "  </tbody>\n",
       "</table>\n",
       "</div>"
      ],
      "text/plain": [
       "                                               name     district  \\\n",
       "0                       Dì Ba - Nem Nướng Nha Trang  Quận Gò Vấp   \n",
       "1               Bánh Xèo Bình Định - 238 Lê Đức Thọ  Quận Gò Vấp   \n",
       "2               Nũng Nịu - Cơm Gà Xối Mỡ - Cây Trâm  Quận Gò Vấp   \n",
       "3  Lẩu Đồng Quê 2 Thống Nhất - Lẩu - 195 Thống Nhất  Quận Gò Vấp   \n",
       "4              Khoai Lang Mật Nướng - Phạm Văn Đồng  Quận Gò Vấp   \n",
       "\n",
       "   review_count  views  quality_score  serve_score  price_score  space_score  \\\n",
       "0            35   3.8K            7.7          7.7          7.5          7.3   \n",
       "1             9   1.8K            6.9          6.1          7.1          5.9   \n",
       "2             3    922            3.3          4.7          4.7          4.7   \n",
       "3            22  10.7K            8.0          6.8          7.9          7.6   \n",
       "4            12   1.5K            9.4          9.6          9.4          9.3   \n",
       "\n",
       "   position_score                                               link  \n",
       "0             7.4  https://www.foody.vn/ho-chi-minh/di-ba-nem-nuo...  \n",
       "1             6.6  https://www.foody.vn/ho-chi-minh/banh-xeo-binh...  \n",
       "2             4.7  https://www.foody.vn/ho-chi-minh/nung-niu-com-...  \n",
       "3             7.8  https://www.foody.vn/ho-chi-minh/lau-dong-que-...  \n",
       "4             9.3  https://www.foody.vn/ho-chi-minh/khoai-lang-ma...  "
      ]
     },
     "execution_count": 30,
     "metadata": {},
     "output_type": "execute_result"
    }
   ],
   "source": [
    "df = pd.read_csv('store_info.csv')[['name', 'district', 'review_count', 'views', 'quality_score', 'serve_score', 'price_score', 'space_score', 'position_score', 'link']]\n",
    "df.head()"
   ]
  },
  {
   "cell_type": "markdown",
   "id": "a5abe2c6",
   "metadata": {},
   "source": [
    "- Fix 'views'"
   ]
  },
  {
   "cell_type": "code",
   "execution_count": 31,
   "id": "3e7bff07",
   "metadata": {},
   "outputs": [],
   "source": [
    "def processViews(text):\n",
    "    if 'K' in text:\n",
    "        text = text.replace('K','')\n",
    "        text = float(text)*1000\n",
    "    elif '.' in text:\n",
    "        text = float(text)*1000\n",
    "    \n",
    "    return int(text)\n",
    "    \n",
    "df['views'] = df['views'].apply(lambda x: processViews(x))"
   ]
  },
  {
   "cell_type": "code",
   "execution_count": null,
   "id": "84e2466d",
   "metadata": {},
   "outputs": [],
   "source": []
  }
 ],
 "metadata": {
  "kernelspec": {
   "display_name": "Python 3 (ipykernel)",
   "language": "python",
   "name": "python3"
  },
  "language_info": {
   "codemirror_mode": {
    "name": "ipython",
    "version": 3
   },
   "file_extension": ".py",
   "mimetype": "text/x-python",
   "name": "python",
   "nbconvert_exporter": "python",
   "pygments_lexer": "ipython3",
   "version": "3.9.12"
  }
 },
 "nbformat": 4,
 "nbformat_minor": 5
}
