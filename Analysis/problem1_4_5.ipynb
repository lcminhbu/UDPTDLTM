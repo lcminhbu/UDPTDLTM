{
 "cells": [
  {
   "cell_type": "code",
   "execution_count": 13,
   "metadata": {},
   "outputs": [],
   "source": [
    "import pandas as pd\n",
    "import numpy as np\n",
    "import seaborn as sns\n",
    "import scipy.stats as ss\n",
    "import matplotlib.pyplot as plt"
   ]
  },
  {
   "cell_type": "code",
   "execution_count": 14,
   "metadata": {},
   "outputs": [
    {
     "name": "stderr",
     "output_type": "stream",
     "text": [
      "C:\\Users\\lucmi\\anaconda3\\envs\\min_ds-env\\lib\\site-packages\\IPython\\core\\interactiveshell.py:3194: DtypeWarning: Columns (37) have mixed types.Specify dtype option on import or set low_memory=False.\n",
      "  has_raised = await self.run_ast_nodes(code_ast.body, cell_name,\n"
     ]
    }
   ],
   "source": [
    "df = pd.read_csv(\"store_info.csv\")"
   ]
  },
  {
   "cell_type": "code",
   "execution_count": 15,
   "metadata": {},
   "outputs": [],
   "source": [
    "df = df[[\"District\", \"AvgRating\"]]"
   ]
  },
  {
   "cell_type": "code",
   "execution_count": 4,
   "metadata": {},
   "outputs": [
    {
     "data": {
      "text/plain": [
       "District     object\n",
       "AvgRating    object\n",
       "dtype: object"
      ]
     },
     "execution_count": 4,
     "metadata": {},
     "output_type": "execute_result"
    }
   ],
   "source": [
    "df.dtypes"
   ]
  },
  {
   "cell_type": "code",
   "execution_count": 5,
   "metadata": {},
   "outputs": [
    {
     "data": {
      "text/plain": [
       "array(['9.6', '7.8', '7.9', '8.2', '8.0', '7.3', '7.6', '7.4', '7.7',\n",
       "       '9.1', '9.8', '7.5', '7.2', '7.1', '6.7', '6.6', '6.3', '6.9',\n",
       "       '6.8', '6.2', '7.0', '6.5', '8.1', '5.4', '6.4', '5.9', '5.1',\n",
       "       '6.1', '8.5', '4.8', '_._', '9.5', '9.4', '9.3', '2.7', '8.4',\n",
       "       '5.7', '9.2', '8.8', '9.0', '10.0', '6.0', '8.6', '1.0', '5.5',\n",
       "       '8.9', '8.7', '8.3', '9.9', '2.8', '5.8', '9.7', '3.9', '5.6',\n",
       "       '4.4', '2.6', '1.9', '4.3', '4.0', '4.6', '3.0', '5.3', '2.1',\n",
       "       '4.2', '4.5', '5.0', '5.2', '1.6', '4.7', '3.5', '2.5', '3.4',\n",
       "       '3.2', '4.9', '3.8', '3.6', '2.0', '2.4', '4.1', '2.9', '2.2',\n",
       "       '1.2', '3.3', '3.1', '1.4', '1.8', '1.1', '3.7', '2.3', '1.5',\n",
       "       '1.7', '1.3', '0.8'], dtype=object)"
      ]
     },
     "execution_count": 5,
     "metadata": {},
     "output_type": "execute_result"
    }
   ],
   "source": [
    "df['AvgRating'].unique()"
   ]
  },
  {
   "cell_type": "code",
   "execution_count": 6,
   "metadata": {},
   "outputs": [],
   "source": [
    "df['AvgRating'] = df['AvgRating'].str.replace('_._','nan',regex=False).astype('float32')"
   ]
  },
  {
   "cell_type": "code",
   "execution_count": 7,
   "metadata": {},
   "outputs": [],
   "source": [
    "df_all = df[['District', 'AvgRating']].groupby(by='District').agg([\"count\",\"mean\"])\n",
    "df_all['count'] = df_all[('AvgRating', 'count')]\n",
    "df_all['mean'] = df_all[('AvgRating', 'mean')]\n",
    "df_all = df_all.drop(columns=[('AvgRating', 'count'), ('AvgRating', 'mean')])\n",
    "df_all = df_all.reset_index(level=0)"
   ]
  },
  {
   "cell_type": "code",
   "execution_count": 8,
   "metadata": {},
   "outputs": [],
   "source": [
    "df_all = df_all.loc[df_all[\"count\"]>=1000]"
   ]
  },
  {
   "cell_type": "code",
   "execution_count": 9,
   "metadata": {},
   "outputs": [
    {
     "data": {
      "text/html": [
       "<div>\n",
       "<style scoped>\n",
       "    .dataframe tbody tr th:only-of-type {\n",
       "        vertical-align: middle;\n",
       "    }\n",
       "\n",
       "    .dataframe tbody tr th {\n",
       "        vertical-align: top;\n",
       "    }\n",
       "\n",
       "    .dataframe thead tr th {\n",
       "        text-align: left;\n",
       "    }\n",
       "</style>\n",
       "<table border=\"1\" class=\"dataframe\">\n",
       "  <thead>\n",
       "    <tr>\n",
       "      <th></th>\n",
       "      <th>District</th>\n",
       "      <th>count</th>\n",
       "      <th>mean</th>\n",
       "    </tr>\n",
       "    <tr>\n",
       "      <th></th>\n",
       "      <th></th>\n",
       "      <th></th>\n",
       "      <th></th>\n",
       "    </tr>\n",
       "  </thead>\n",
       "  <tbody>\n",
       "    <tr>\n",
       "      <th>5</th>\n",
       "      <td>Quận 1</td>\n",
       "      <td>4050</td>\n",
       "      <td>7.611259</td>\n",
       "    </tr>\n",
       "    <tr>\n",
       "      <th>6</th>\n",
       "      <td>Quận 10</td>\n",
       "      <td>2454</td>\n",
       "      <td>7.328239</td>\n",
       "    </tr>\n",
       "    <tr>\n",
       "      <th>7</th>\n",
       "      <td>Quận 11</td>\n",
       "      <td>1479</td>\n",
       "      <td>7.393577</td>\n",
       "    </tr>\n",
       "    <tr>\n",
       "      <th>10</th>\n",
       "      <td>Quận 3</td>\n",
       "      <td>2534</td>\n",
       "      <td>7.430071</td>\n",
       "    </tr>\n",
       "    <tr>\n",
       "      <th>11</th>\n",
       "      <td>Quận 4</td>\n",
       "      <td>1120</td>\n",
       "      <td>7.377054</td>\n",
       "    </tr>\n",
       "    <tr>\n",
       "      <th>12</th>\n",
       "      <td>Quận 5</td>\n",
       "      <td>1417</td>\n",
       "      <td>7.224206</td>\n",
       "    </tr>\n",
       "    <tr>\n",
       "      <th>13</th>\n",
       "      <td>Quận 6</td>\n",
       "      <td>1056</td>\n",
       "      <td>7.283049</td>\n",
       "    </tr>\n",
       "    <tr>\n",
       "      <th>14</th>\n",
       "      <td>Quận 7</td>\n",
       "      <td>2257</td>\n",
       "      <td>7.504874</td>\n",
       "    </tr>\n",
       "    <tr>\n",
       "      <th>15</th>\n",
       "      <td>Quận 8</td>\n",
       "      <td>1097</td>\n",
       "      <td>7.351960</td>\n",
       "    </tr>\n",
       "    <tr>\n",
       "      <th>17</th>\n",
       "      <td>Quận Bình Thạnh</td>\n",
       "      <td>3419</td>\n",
       "      <td>7.576689</td>\n",
       "    </tr>\n",
       "    <tr>\n",
       "      <th>18</th>\n",
       "      <td>Quận Bình Tân</td>\n",
       "      <td>1064</td>\n",
       "      <td>7.525188</td>\n",
       "    </tr>\n",
       "    <tr>\n",
       "      <th>19</th>\n",
       "      <td>Quận Gò Vấp</td>\n",
       "      <td>2616</td>\n",
       "      <td>7.532990</td>\n",
       "    </tr>\n",
       "    <tr>\n",
       "      <th>20</th>\n",
       "      <td>Quận Phú Nhuận</td>\n",
       "      <td>1844</td>\n",
       "      <td>7.416920</td>\n",
       "    </tr>\n",
       "    <tr>\n",
       "      <th>21</th>\n",
       "      <td>Quận Tân Bình</td>\n",
       "      <td>2965</td>\n",
       "      <td>7.497066</td>\n",
       "    </tr>\n",
       "    <tr>\n",
       "      <th>22</th>\n",
       "      <td>Quận Tân Phú</td>\n",
       "      <td>2063</td>\n",
       "      <td>7.505187</td>\n",
       "    </tr>\n",
       "    <tr>\n",
       "      <th>23</th>\n",
       "      <td>Tp. Thủ Đức</td>\n",
       "      <td>2515</td>\n",
       "      <td>7.720079</td>\n",
       "    </tr>\n",
       "  </tbody>\n",
       "</table>\n",
       "</div>"
      ],
      "text/plain": [
       "           District count      mean\n",
       "                                   \n",
       "5            Quận 1  4050  7.611259\n",
       "6           Quận 10  2454  7.328239\n",
       "7           Quận 11  1479  7.393577\n",
       "10           Quận 3  2534  7.430071\n",
       "11           Quận 4  1120  7.377054\n",
       "12           Quận 5  1417  7.224206\n",
       "13           Quận 6  1056  7.283049\n",
       "14           Quận 7  2257  7.504874\n",
       "15           Quận 8  1097  7.351960\n",
       "17  Quận Bình Thạnh  3419  7.576689\n",
       "18    Quận Bình Tân  1064  7.525188\n",
       "19      Quận Gò Vấp  2616  7.532990\n",
       "20   Quận Phú Nhuận  1844  7.416920\n",
       "21    Quận Tân Bình  2965  7.497066\n",
       "22     Quận Tân Phú  2063  7.505187\n",
       "23      Tp. Thủ Đức  2515  7.720079"
      ]
     },
     "execution_count": 9,
     "metadata": {},
     "output_type": "execute_result"
    }
   ],
   "source": [
    "df_all"
   ]
  },
  {
   "cell_type": "code",
   "execution_count": 10,
   "metadata": {},
   "outputs": [],
   "source": [
    "df_all['mean_norm'] = df_all['mean'].apply(lambda x: x-7)"
   ]
  },
  {
   "cell_type": "code",
   "execution_count": 11,
   "metadata": {},
   "outputs": [
    {
     "data": {
      "text/plain": [
       "<AxesSubplot:xlabel='District', ylabel='mean_norm'>"
      ]
     },
     "execution_count": 11,
     "metadata": {},
     "output_type": "execute_result"
    },
    {
     "data": {
      "image/png": "[encoded data removed]",
      "text/plain": [
       "<Figure size 640x480 with 1 Axes>"
      ]
     },
     "metadata": {},
     "output_type": "display_data"
    }
   ],
   "source": [
    "# fig, axs = plt.subplots(2)\n",
    "sns.barplot(data=df_all, x=\"District\", y=\"mean_norm\",order = df_all.sort_values('mean',ascending=False)['District'])"
   ]
  },
  {
   "cell_type": "code",
   "execution_count": null,
   "metadata": {},
   "outputs": [],
   "source": []
  },
  {
   "cell_type": "code",
   "execution_count": 12,
   "metadata": {},
   "outputs": [
    {
     "data": {
      "text/html": [
       "<div>\n",
       "<style scoped>\n",
       "    .dataframe tbody tr th:only-of-type {\n",
       "        vertical-align: middle;\n",
       "    }\n",
       "\n",
       "    .dataframe tbody tr th {\n",
       "        vertical-align: top;\n",
       "    }\n",
       "\n",
       "    .dataframe thead tr th {\n",
       "        text-align: left;\n",
       "    }\n",
       "</style>\n",
       "<table border=\"1\" class=\"dataframe\">\n",
       "  <thead>\n",
       "    <tr>\n",
       "      <th></th>\n",
       "      <th>District</th>\n",
       "      <th>count</th>\n",
       "      <th>mean</th>\n",
       "      <th>mean_norm</th>\n",
       "    </tr>\n",
       "    <tr>\n",
       "      <th></th>\n",
       "      <th></th>\n",
       "      <th></th>\n",
       "      <th></th>\n",
       "      <th></th>\n",
       "    </tr>\n",
       "  </thead>\n",
       "  <tbody>\n",
       "    <tr>\n",
       "      <th>5</th>\n",
       "      <td>Quận 1</td>\n",
       "      <td>4050</td>\n",
       "      <td>7.611259</td>\n",
       "      <td>0.611259</td>\n",
       "    </tr>\n",
       "    <tr>\n",
       "      <th>6</th>\n",
       "      <td>Quận 10</td>\n",
       "      <td>2454</td>\n",
       "      <td>7.328239</td>\n",
       "      <td>0.328239</td>\n",
       "    </tr>\n",
       "    <tr>\n",
       "      <th>7</th>\n",
       "      <td>Quận 11</td>\n",
       "      <td>1479</td>\n",
       "      <td>7.393577</td>\n",
       "      <td>0.393577</td>\n",
       "    </tr>\n",
       "    <tr>\n",
       "      <th>10</th>\n",
       "      <td>Quận 3</td>\n",
       "      <td>2534</td>\n",
       "      <td>7.430071</td>\n",
       "      <td>0.430071</td>\n",
       "    </tr>\n",
       "    <tr>\n",
       "      <th>11</th>\n",
       "      <td>Quận 4</td>\n",
       "      <td>1120</td>\n",
       "      <td>7.377054</td>\n",
       "      <td>0.377054</td>\n",
       "    </tr>\n",
       "    <tr>\n",
       "      <th>12</th>\n",
       "      <td>Quận 5</td>\n",
       "      <td>1417</td>\n",
       "      <td>7.224206</td>\n",
       "      <td>0.224206</td>\n",
       "    </tr>\n",
       "    <tr>\n",
       "      <th>13</th>\n",
       "      <td>Quận 6</td>\n",
       "      <td>1056</td>\n",
       "      <td>7.283049</td>\n",
       "      <td>0.283049</td>\n",
       "    </tr>\n",
       "    <tr>\n",
       "      <th>14</th>\n",
       "      <td>Quận 7</td>\n",
       "      <td>2257</td>\n",
       "      <td>7.504874</td>\n",
       "      <td>0.504874</td>\n",
       "    </tr>\n",
       "    <tr>\n",
       "      <th>15</th>\n",
       "      <td>Quận 8</td>\n",
       "      <td>1097</td>\n",
       "      <td>7.351960</td>\n",
       "      <td>0.351960</td>\n",
       "    </tr>\n",
       "    <tr>\n",
       "      <th>17</th>\n",
       "      <td>Quận Bình Thạnh</td>\n",
       "      <td>3419</td>\n",
       "      <td>7.576689</td>\n",
       "      <td>0.576689</td>\n",
       "    </tr>\n",
       "    <tr>\n",
       "      <th>18</th>\n",
       "      <td>Quận Bình Tân</td>\n",
       "      <td>1064</td>\n",
       "      <td>7.525188</td>\n",
       "      <td>0.525188</td>\n",
       "    </tr>\n",
       "    <tr>\n",
       "      <th>19</th>\n",
       "      <td>Quận Gò Vấp</td>\n",
       "      <td>2616</td>\n",
       "      <td>7.532990</td>\n",
       "      <td>0.532990</td>\n",
       "    </tr>\n",
       "    <tr>\n",
       "      <th>20</th>\n",
       "      <td>Quận Phú Nhuận</td>\n",
       "      <td>1844</td>\n",
       "      <td>7.416920</td>\n",
       "      <td>0.416920</td>\n",
       "    </tr>\n",
       "    <tr>\n",
       "      <th>21</th>\n",
       "      <td>Quận Tân Bình</td>\n",
       "      <td>2965</td>\n",
       "      <td>7.497066</td>\n",
       "      <td>0.497066</td>\n",
       "    </tr>\n",
       "    <tr>\n",
       "      <th>22</th>\n",
       "      <td>Quận Tân Phú</td>\n",
       "      <td>2063</td>\n",
       "      <td>7.505187</td>\n",
       "      <td>0.505187</td>\n",
       "    </tr>\n",
       "    <tr>\n",
       "      <th>23</th>\n",
       "      <td>Tp. Thủ Đức</td>\n",
       "      <td>2515</td>\n",
       "      <td>7.720079</td>\n",
       "      <td>0.720079</td>\n",
       "    </tr>\n",
       "  </tbody>\n",
       "</table>\n",
       "</div>"
      ],
      "text/plain": [
       "           District count      mean mean_norm\n",
       "                                             \n",
       "5            Quận 1  4050  7.611259  0.611259\n",
       "6           Quận 10  2454  7.328239  0.328239\n",
       "7           Quận 11  1479  7.393577  0.393577\n",
       "10           Quận 3  2534  7.430071  0.430071\n",
       "11           Quận 4  1120  7.377054  0.377054\n",
       "12           Quận 5  1417  7.224206  0.224206\n",
       "13           Quận 6  1056  7.283049  0.283049\n",
       "14           Quận 7  2257  7.504874  0.504874\n",
       "15           Quận 8  1097  7.351960  0.351960\n",
       "17  Quận Bình Thạnh  3419  7.576689  0.576689\n",
       "18    Quận Bình Tân  1064  7.525188  0.525188\n",
       "19      Quận Gò Vấp  2616  7.532990  0.532990\n",
       "20   Quận Phú Nhuận  1844  7.416920  0.416920\n",
       "21    Quận Tân Bình  2965  7.497066  0.497066\n",
       "22     Quận Tân Phú  2063  7.505187  0.505187\n",
       "23      Tp. Thủ Đức  2515  7.720079  0.720079"
      ]
     },
     "execution_count": 12,
     "metadata": {},
     "output_type": "execute_result"
    }
   ],
   "source": [
    "df_all"
   ]
  },
  {
   "cell_type": "code",
   "execution_count": null,
   "metadata": {},
   "outputs": [],
   "source": []
  },
  {
   "cell_type": "code",
   "execution_count": null,
   "metadata": {},
   "outputs": [],
   "source": []
  }
 ],
 "metadata": {
  "kernelspec": {
   "display_name": "Python 3 (ipykernel)",
   "language": "python",
   "name": "python3"
  },
  "language_info": {
   "codemirror_mode": {
    "name": "ipython",
    "version": 3
   },
   "file_extension": ".py",
   "mimetype": "text/x-python",
   "name": "python",
   "nbconvert_exporter": "python",
   "pygments_lexer": "ipython3",
   "version": "3.8.8"
  },
  "vscode": {
   "interpreter": {
    "hash": "82f59fd800bd6790a265d2d3a6d33bfd2e3cdd3c280afc21eade824ac11633f4"
   }
  }
 },
 "nbformat": 4,
 "nbformat_minor": 2
}
