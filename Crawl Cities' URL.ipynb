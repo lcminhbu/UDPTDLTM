{
 "cells": [
  {
   "cell_type": "markdown",
   "id": "ce145212",
   "metadata": {},
   "source": [
    "- This code retrieves cities' name and its URL.\n",
    "- Web: https://www.foody.vn/da-nang"
   ]
  },
  {
   "cell_type": "code",
   "execution_count": 95,
   "id": "92ad0b4c",
   "metadata": {},
   "outputs": [],
   "source": [
    "from selenium import webdriver\n",
    "from selenium.webdriver.common.keys import Keys\n",
    "import pandas as pd\n",
    "from webdriver_manager.chrome import ChromeDriverManager\n",
    "from selenium.webdriver.common.by import By\n",
    "import copy\n",
    "import time"
   ]
  },
  {
   "cell_type": "code",
   "execution_count": 5,
   "id": "ddecd7b5",
   "metadata": {},
   "outputs": [
    {
     "name": "stderr",
     "output_type": "stream",
     "text": [
      "\n",
      "\n",
      "====== WebDriver manager ======\n",
      "Current google-chrome version is 105.0.5195\n",
      "Get LATEST chromedriver version for 105.0.5195 google-chrome\n",
      "There is no [win32] chromedriver for browser 105.0.5195 in cache\n",
      "Trying to download new driver from https://chromedriver.storage.googleapis.com/105.0.5195.52/chromedriver_win32.zip\n",
      "Driver has been saved in cache [C:\\Users\\ADMIN\\.wdm\\drivers\\chromedriver\\win32\\105.0.5195.52]\n"
     ]
    }
   ],
   "source": [
    "driver = webdriver.Chrome(ChromeDriverManager().install())"
   ]
  },
  {
   "cell_type": "code",
   "execution_count": null,
   "id": "45be9fc1",
   "metadata": {},
   "outputs": [],
   "source": [
    "city_name = []\n",
    "city_url = []"
   ]
  },
  {
   "cell_type": "markdown",
   "id": "2eccc0b9",
   "metadata": {},
   "source": [
    "# Top Cities"
   ]
  },
  {
   "cell_type": "code",
   "execution_count": 96,
   "id": "54ce5726",
   "metadata": {},
   "outputs": [],
   "source": [
    "url = \"https://www.foody.vn/da-nang\"\n",
    "foody_page = driver.get(url)\n",
    "\n",
    "time.sleep(3)\n",
    "\n",
    "driver.find_element_by_xpath(\"//div[@class='rn-nav-name']\").click()\n",
    "\n",
    "time.sleep(3)\n",
    "\n",
    "dummy0 = driver.find_element_by_xpath(\".//div[@id='popupLocation']\")\n",
    "dummy1 = driver.find_element_by_xpath(\".//ul[@class='flp-countries ng-scope']\")\n",
    "dummy2 = driver.find_elements_by_xpath(\".//li[@ng-if='Model.TopCities.length>0']\")\n",
    "top_cities = driver.find_elements_by_xpath(\".//li[@ng-repeat='item in Model.TopCities']\")\n",
    "\n",
    "for i in top_cities:\n",
    "    city_name.append(i.find_element_by_xpath(\".//label[@class='ng-binding']\").get_attribute('innerHTML'))\n",
    "    city_url.append(i.find_element_by_xpath(\".//a\").get_attribute('href'))"
   ]
  },
  {
   "cell_type": "code",
   "execution_count": 98,
   "id": "9b9ee406",
   "metadata": {
    "scrolled": true
   },
   "outputs": [
    {
     "data": {
      "text/plain": [
       "['https://www.foody.vn/ho-chi-minh',\n",
       " 'https://www.foody.vn/ha-noi',\n",
       " 'https://www.foody.vn/da-nang',\n",
       " 'https://www.foody.vn/can-tho',\n",
       " 'https://www.foody.vn/khanh-hoa',\n",
       " 'https://www.foody.vn/vung-tau',\n",
       " 'https://www.foody.vn/hai-phong',\n",
       " 'https://www.foody.vn/binh-thuan',\n",
       " 'https://www.foody.vn/lam-dong',\n",
       " 'https://www.foody.vn/dong-nai',\n",
       " 'https://www.foody.vn/quang-ninh',\n",
       " 'https://www.foody.vn/hue',\n",
       " 'https://www.foody.vn/binh-duong',\n",
       " 'https://www.foody.vn/hai-duong',\n",
       " 'https://www.foody.vn/ninh-thuan']"
      ]
     },
     "execution_count": 98,
     "metadata": {},
     "output_type": "execute_result"
    }
   ],
   "source": [
    "city_url"
   ]
  },
  {
   "cell_type": "markdown",
   "id": "8fe10076",
   "metadata": {},
   "source": [
    "# Other Cities"
   ]
  },
  {
   "cell_type": "code",
   "execution_count": 99,
   "id": "348715ce",
   "metadata": {},
   "outputs": [],
   "source": [
    "url = \"https://www.foody.vn/da-nang\"\n",
    "foody_page = driver.get(url)\n",
    "\n",
    "time.sleep(3)\n",
    "\n",
    "driver.find_element_by_xpath(\"//div[@class='rn-nav-name']\").click()\n",
    "\n",
    "time.sleep(3)\n",
    "\n",
    "dummy0 = driver.find_element_by_xpath(\".//div[@id='popupLocation']\")\n",
    "dummy1 = driver.find_element_by_xpath(\".//ul[@class='flp-countries ng-scope']\")\n",
    "dummy2 = driver.find_elements_by_xpath(\".//li[@ng-if='Model.OtherCities.length>0']\")\n",
    "top_cities = driver.find_elements_by_xpath(\".//li[@ng-repeat='item in Model.OtherCities']\")\n",
    "\n",
    "for i in top_cities:\n",
    "    city_name.append(i.find_element_by_xpath(\".//label[@class='ng-binding']\").get_attribute('innerHTML'))\n",
    "    city_url.append(i.find_element_by_xpath(\".//a\").get_attribute('href'))"
   ]
  },
  {
   "cell_type": "markdown",
   "id": "fe7cf7f1",
   "metadata": {},
   "source": [
    "# DataFrame"
   ]
  },
  {
   "cell_type": "code",
   "execution_count": 102,
   "id": "03e4120d",
   "metadata": {},
   "outputs": [
    {
     "data": {
      "text/html": [
       "<div>\n",
       "<style scoped>\n",
       "    .dataframe tbody tr th:only-of-type {\n",
       "        vertical-align: middle;\n",
       "    }\n",
       "\n",
       "    .dataframe tbody tr th {\n",
       "        vertical-align: top;\n",
       "    }\n",
       "\n",
       "    .dataframe thead th {\n",
       "        text-align: right;\n",
       "    }\n",
       "</style>\n",
       "<table border=\"1\" class=\"dataframe\">\n",
       "  <thead>\n",
       "    <tr style=\"text-align: right;\">\n",
       "      <th></th>\n",
       "      <th>City</th>\n",
       "      <th>URL</th>\n",
       "    </tr>\n",
       "  </thead>\n",
       "  <tbody>\n",
       "    <tr>\n",
       "      <th>0</th>\n",
       "      <td>TP. HCM</td>\n",
       "      <td>https://www.foody.vn/ho-chi-minh</td>\n",
       "    </tr>\n",
       "    <tr>\n",
       "      <th>1</th>\n",
       "      <td>Hà Nội</td>\n",
       "      <td>https://www.foody.vn/ha-noi</td>\n",
       "    </tr>\n",
       "    <tr>\n",
       "      <th>2</th>\n",
       "      <td>Đà Nẵng</td>\n",
       "      <td>https://www.foody.vn/da-nang</td>\n",
       "    </tr>\n",
       "    <tr>\n",
       "      <th>3</th>\n",
       "      <td>Cần Thơ</td>\n",
       "      <td>https://www.foody.vn/can-tho</td>\n",
       "    </tr>\n",
       "    <tr>\n",
       "      <th>4</th>\n",
       "      <td>Khánh Hoà</td>\n",
       "      <td>https://www.foody.vn/khanh-hoa</td>\n",
       "    </tr>\n",
       "    <tr>\n",
       "      <th>...</th>\n",
       "      <td>...</td>\n",
       "      <td>...</td>\n",
       "    </tr>\n",
       "    <tr>\n",
       "      <th>59</th>\n",
       "      <td>Tuyên Quang</td>\n",
       "      <td>https://www.foody.vn/tuyen-quang</td>\n",
       "    </tr>\n",
       "    <tr>\n",
       "      <th>60</th>\n",
       "      <td>Yên Bái</td>\n",
       "      <td>https://www.foody.vn/yen-bai</td>\n",
       "    </tr>\n",
       "    <tr>\n",
       "      <th>61</th>\n",
       "      <td>Cao Bằng</td>\n",
       "      <td>https://www.foody.vn/cao-bang</td>\n",
       "    </tr>\n",
       "    <tr>\n",
       "      <th>62</th>\n",
       "      <td>Bắc Kạn</td>\n",
       "      <td>https://www.foody.vn/bac-kan</td>\n",
       "    </tr>\n",
       "    <tr>\n",
       "      <th>63</th>\n",
       "      <td>Lai Châu</td>\n",
       "      <td>https://www.foody.vn/lai-chau</td>\n",
       "    </tr>\n",
       "  </tbody>\n",
       "</table>\n",
       "<p>64 rows × 2 columns</p>\n",
       "</div>"
      ],
      "text/plain": [
       "           City                               URL\n",
       "0       TP. HCM  https://www.foody.vn/ho-chi-minh\n",
       "1        Hà Nội       https://www.foody.vn/ha-noi\n",
       "2       Đà Nẵng      https://www.foody.vn/da-nang\n",
       "3       Cần Thơ      https://www.foody.vn/can-tho\n",
       "4     Khánh Hoà    https://www.foody.vn/khanh-hoa\n",
       "..          ...                               ...\n",
       "59  Tuyên Quang  https://www.foody.vn/tuyen-quang\n",
       "60      Yên Bái      https://www.foody.vn/yen-bai\n",
       "61     Cao Bằng     https://www.foody.vn/cao-bang\n",
       "62      Bắc Kạn      https://www.foody.vn/bac-kan\n",
       "63     Lai Châu     https://www.foody.vn/lai-chau\n",
       "\n",
       "[64 rows x 2 columns]"
      ]
     },
     "execution_count": 102,
     "metadata": {},
     "output_type": "execute_result"
    }
   ],
   "source": [
    "data = {\n",
    "    \"City\": city_name,\n",
    "    \"URL\": city_url\n",
    "}\n",
    "\n",
    "df = pd.DataFrame(data)\n",
    "df"
   ]
  },
  {
   "cell_type": "code",
   "execution_count": 104,
   "id": "8a5d9b67",
   "metadata": {},
   "outputs": [],
   "source": [
    "df.to_csv(\"C:\\\\Users\\\\ADMIN\\\\Desktop\\\\Untitled Folder\\\\City_URL.csv\", index=False, header=True, columns=['City', 'URL'])"
   ]
  }
 ],
 "metadata": {
  "kernelspec": {
   "display_name": "Python 3",
   "language": "python",
   "name": "python3"
  },
  "language_info": {
   "codemirror_mode": {
    "name": "ipython",
    "version": 3
   },
   "file_extension": ".py",
   "mimetype": "text/x-python",
   "name": "python",
   "nbconvert_exporter": "python",
   "pygments_lexer": "ipython3",
   "version": "3.8.8"
  }
 },
 "nbformat": 4,
 "nbformat_minor": 5
}
