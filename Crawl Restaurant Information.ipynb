{
 "cells": [
  {
   "cell_type": "code",
   "execution_count": 1,
   "id": "c89b5f0e",
   "metadata": {},
   "outputs": [],
   "source": [
    "from selenium import webdriver\n",
    "from selenium.webdriver.common.keys import Keys\n",
    "import pandas as pd\n",
    "from webdriver_manager.chrome import ChromeDriverManager\n",
    "from selenium.webdriver.common.by import By\n",
    "import copy\n",
    "import time"
   ]
  },
  {
   "cell_type": "markdown",
   "id": "0704ec3e",
   "metadata": {},
   "source": [
    "# Global Variables"
   ]
  },
  {
   "cell_type": "code",
   "execution_count": 2,
   "id": "72bd3731",
   "metadata": {},
   "outputs": [
    {
     "name": "stderr",
     "output_type": "stream",
     "text": [
      "\n",
      "\n",
      "====== WebDriver manager ======\n",
      "Current google-chrome version is 105.0.5195\n",
      "Get LATEST chromedriver version for 105.0.5195 google-chrome\n",
      "Trying to download new driver from https://chromedriver.storage.googleapis.com/105.0.5195.52/chromedriver_win32.zip\n",
      "Driver has been saved in cache [C:\\Users\\ADMIN\\.wdm\\drivers\\chromedriver\\win32\\105.0.5195.52]\n"
     ]
    }
   ],
   "source": [
    "driver = webdriver.Chrome(ChromeDriverManager().install())"
   ]
  },
  {
   "cell_type": "code",
   "execution_count": 3,
   "id": "6c5ab39d",
   "metadata": {},
   "outputs": [],
   "source": [
    "wait_time = 3"
   ]
  },
  {
   "cell_type": "markdown",
   "id": "061b33b8",
   "metadata": {},
   "source": [
    "# Functions"
   ]
  },
  {
   "cell_type": "code",
   "execution_count": 4,
   "id": "9a58cec5",
   "metadata": {},
   "outputs": [],
   "source": [
    "def scrollToPageEnd(driver):\n",
    "    SCROLL_PAUSE_TIME = 0.5\n",
    "\n",
    "    # Get scroll height\n",
    "    last_height = driver.execute_script(\"return document.body.scrollHeight\")\n",
    "\n",
    "    while True:\n",
    "        # Scroll down to bottom\n",
    "        driver.execute_script(\"window.scrollTo(0, document.body.scrollHeight);\")\n",
    "\n",
    "        # Wait to load page\n",
    "        time.sleep(SCROLL_PAUSE_TIME)\n",
    "\n",
    "        # Calculate new scroll height and compare with last scroll height\n",
    "        new_height = driver.execute_script(\"return document.body.scrollHeight\")\n",
    "        if new_height == last_height:\n",
    "            break\n",
    "        last_height = new_height"
   ]
  },
  {
   "cell_type": "markdown",
   "id": "d6d42187",
   "metadata": {},
   "source": [
    "# Records Form"
   ]
  },
  {
   "cell_type": "markdown",
   "id": "48d2daee",
   "metadata": {},
   "source": [
    "record = {\n",
    "    \"Name\": \"Chè Cây Xoài - Nguyễn Văn Thoại\",\n",
    "    \"Type\": \"Ăn vặt/Vỉa hè\",\n",
    "    \"Cuisine\": \"Món Miền Trung\",\n",
    "    \"Target Customer\": \"Sinh viên, Cặp đôi, Gia đình\",\n",
    "    \"Rated\": 6.8,\n",
    "    \"Rated Price\": 7.8,\n",
    "    \"Rated Overall Quality\": 7.7,\n",
    "    \"Rated Customer Service\": 6.7,\n",
    "    \"Rated Location\": 6.0,\n",
    "    \"Rated Space\": 5.8,\n",
    "    \"Comments\": 13,\n",
    "    \"Address\": \"72/1 Nguyễn Văn Thoại,  Quận Ngũ Hành Sơn, Đà Nẵng\",\n",
    "    \"Opening\": \"18:00\",\n",
    "    \"Close\": \"23:00\",\n",
    "    \"Price-Least (VND)\": 6000,\n",
    "    \"Price-Most (VND)\": 15000,\n",
    "    \"CRt Excellent\": 1,\n",
    "    \"CRt Good\": 7,\n",
    "    \"CRt Average\": 3,\n",
    "    \"CRt Bad\": 2,\n",
    "    \"Views\": 1000,\n",
    "    \"Detailed Comments\": [\n",
    "        {\n",
    "            \"Username\": \"Nhân\",\n",
    "            \"Device\": \"Android\",\n",
    "            \"Date and Time\": \"24/03/2020 19:35\"\n",
    "            \"Comment Summary\": \"Quán tạm thời nghỉ bán.\",\n",
    "            \"Full Comment\": \"Quán đang tạm thời nghỉ bán vì dịch Corona. Tạm thời không bán. Khi nào quán bán lại sẽ thông báo với mọi người. Mong mọi người thông cảm và tiếp tục ủng hộ khi quán bán lại.\"\n",
    "        }\n",
    "    ]\n",
    "}"
   ]
  },
  {
   "cell_type": "code",
   "execution_count": 27,
   "id": "e67eef77",
   "metadata": {},
   "outputs": [],
   "source": [
    "record = {\n",
    "    \"Name\": \"\",\n",
    "    \"Type\": \"\",\n",
    "    \"Cuisine\": \"\",\n",
    "    \"Target Customer\": \"\",\n",
    "    \"Rated\": 0,\n",
    "    \"Price\": 0,\n",
    "    \"Overall Quality\": 0,\n",
    "    \"Customer Service\": 0,\n",
    "    \"Location\": 0,\n",
    "    \"Space\": 0,\n",
    "    \"Comments\": 0,\n",
    "    \"Address\": \"\",\n",
    "    \"Open\": \"\",\n",
    "    \"Close\": \"\",\n",
    "    \"Min Price\": 0,\n",
    "    \"Max Price\": 0,\n",
    "    \"Excellent\": 0,\n",
    "    \"Good\": 0,\n",
    "    \"Average\": 0,\n",
    "    \"Bad\": 0,\n",
    "    \"Views\": 0,\n",
    "    \"Detailed Comments\": []\n",
    "}\n",
    "\n",
    "comment = {\n",
    "    \"Username\": \"\",\n",
    "    \"Device\": \"\",\n",
    "    \"Date and Time\": \"\",\n",
    "    \"Comment Summary\": \"\",\n",
    "    \"Full Comment\": \"\"\n",
    "}"
   ]
  },
  {
   "cell_type": "markdown",
   "id": "d8590f4d",
   "metadata": {},
   "source": [
    "# Crawl"
   ]
  },
  {
   "cell_type": "code",
   "execution_count": 32,
   "id": "7f28ee9c",
   "metadata": {},
   "outputs": [],
   "source": [
    "def crawlRestaurant(url, record):\n",
    "    driver.get(url)\n",
    "\n",
    "    time.sleep(wait_time)\n",
    "\n",
    "    rec = record.copy()\n",
    "\n",
    "    rec['Name'] = driver.find_element_by_xpath('//*[@class=\"main-information disableSection\"]/div/div/div[3]/h1').text\n",
    "    rec['Type'] = driver.find_element_by_xpath('//*[@class=\"main-information disableSection\"]/div/div/div[3]/div[1]/div[1]').text\n",
    "    rec['Cuisine'] = driver.find_element_by_xpath('//*[@class=\"main-information disableSection\"]/div/div/div[3]/div[1]/div[2]/div[2]').text\n",
    "    rec['Target Customer'] = driver.find_element_by_xpath('//*[@class=\"main-information disableSection\"]/div/div/div[3]/div[1]/div[2]/div[3]').text\n",
    "    rec['Rated'] = driver.find_element_by_xpath('//*[@id=\"res-summary-point\"]/div/div[1]/div[1]/div[1]').text\n",
    "\n",
    "    dummy0 = driver.find_elements_by_xpath('//*[@id=\"res-summary-point\"]/div/div/div[@class=\"microsite-top-points\"]')\n",
    "    dic0 = {}\n",
    "    for elem in dummy0:\n",
    "        points = list(elem.text.split('\\n'))\n",
    "        dic0[points[1]] = points[0]\n",
    "\n",
    "    rec['Price'] = dic0['Giá cả']\n",
    "    rec['Overall Quality'] = dic0['Chất lượng']\n",
    "    rec['Customer Service'] = dic0['Phục vụ']\n",
    "    rec['Space'] = dic0['Không gian']\n",
    "    rec['Location'] = dic0['Vị trí']\n",
    "\n",
    "    rec['Comments'] = driver.find_element_by_xpath('//*[@id=\"res-summary-point\"]/div/div[2]/div[@class=\"microsite-review-count\"]').text\n",
    "    rec['Address'] = driver.find_element_by_xpath('//div[@class=\"disableSection\"]/div[1]/div').text\n",
    "\n",
    "    timesopen = driver.find_element_by_xpath('//div[@class=\"disableSection\"]/div[2]/div/span[3]').text.split(' - ')\n",
    "    rec['Open'] = timesopen[0]\n",
    "    rec['Close'] = timesopen[1]\n",
    "\n",
    "    minmax_price = driver.find_element_by_xpath('//div[@class=\"disableSection\"]/div[2]/div[2]/span[2]').text.split(' - ')\n",
    "    rec['Min Price'] = minmax_price[0]\n",
    "    rec['Max Price'] = minmax_price[1]\n",
    "\n",
    "    dummy1 = driver.find_elements_by_xpath('//div[@class=\"ratings-boxes\"]/div[@class=\"ratings-numbers\"]')\n",
    "    dic1 = {}\n",
    "    for elem in dummy1:\n",
    "        points = list(elem.text.split('\\n'))\n",
    "        dic1[points[1]] = points[0]\n",
    "\n",
    "    rec['Excellent'] = dic1['Tuyệt vời']\n",
    "    rec['Good'] = dic1['Khá tốt']\n",
    "    rec['Average'] = dic1['Trung bình']\n",
    "    rec['Bad'] = dic1['Kém']\n",
    "\n",
    "    rec['Views'] = driver.find_element_by_xpath('//div[@class=\"social-share-icons\"]/div/span').text\n",
    "    \n",
    "    return rec"
   ]
  },
  {
   "cell_type": "code",
   "execution_count": 33,
   "id": "e86738e5",
   "metadata": {},
   "outputs": [
    {
     "data": {
      "text/plain": [
       "{'Name': 'Biscotti - Bánh Hạt Dinh Dưỡng - Huỳnh Văn Bánh',\n",
       " 'Type': 'Tiệm bánh',\n",
       " 'Cuisine': 'Món Việt',\n",
       " 'Target Customer': '- Gia đình, Nhóm hội, Giới văn phòng',\n",
       " 'Rated': '10.0',\n",
       " 'Price': '10.0',\n",
       " 'Overall Quality': '10.0',\n",
       " 'Customer Service': '10.0',\n",
       " 'Location': '10.0',\n",
       " 'Space': '10.0',\n",
       " 'Comments': '599',\n",
       " 'Address': '420/11 Huỳnh Văn Bánh, P. 14, Quận Phú Nhuận, TP. HCM',\n",
       " 'Open': ' 09:00',\n",
       " 'Close': '19:00',\n",
       " 'Min Price': '60.000đ',\n",
       " 'Max Price': '150.000đ',\n",
       " 'Excellent': '598',\n",
       " 'Good': '0',\n",
       " 'Average': '1',\n",
       " 'Bad': '0',\n",
       " 'Views': '1.3K',\n",
       " 'Detailed Comments': []}"
      ]
     },
     "execution_count": 33,
     "metadata": {},
     "output_type": "execute_result"
    }
   ],
   "source": [
    "crawlRestaurant(\"https://www.foody.vn/ho-chi-minh/biscotti-banh-hat-dinh-duong-huynh-van-banh\", record)"
   ]
  },
  {
   "cell_type": "code",
   "execution_count": 35,
   "id": "3dcb6053",
   "metadata": {},
   "outputs": [
    {
     "data": {
      "text/plain": [
       "{'Name': 'Banana Leaf - Roti House Saigon',\n",
       " 'Type': 'Quán ăn',\n",
       " 'Cuisine': 'Món Á',\n",
       " 'Target Customer': '- Sinh viên, Gia đình, Nhóm hội, Giới văn phòng',\n",
       " 'Rated': '9.0',\n",
       " 'Price': '7.7',\n",
       " 'Overall Quality': '8.7',\n",
       " 'Customer Service': '8.7',\n",
       " 'Location': '9.0',\n",
       " 'Space': '8.3',\n",
       " 'Comments': '3',\n",
       " 'Address': '46/6 Phạm Hồng Thái, P. Bến Thành, Quận 1, TP. HCM',\n",
       " 'Open': ' 16:00',\n",
       " 'Close': '22:00',\n",
       " 'Min Price': '20.000đ',\n",
       " 'Max Price': '200.000đ',\n",
       " 'Excellent': '0',\n",
       " 'Good': '3',\n",
       " 'Average': '0',\n",
       " 'Bad': '0',\n",
       " 'Views': '607',\n",
       " 'Detailed Comments': []}"
      ]
     },
     "execution_count": 35,
     "metadata": {},
     "output_type": "execute_result"
    }
   ],
   "source": [
    "crawlRestaurant(\"https://www.foody.vn/ho-chi-minh/banana-leaf-roti-house-saigon\", record)"
   ]
  },
  {
   "cell_type": "code",
   "execution_count": null,
   "id": "08316960",
   "metadata": {},
   "outputs": [],
   "source": []
  }
 ],
 "metadata": {
  "kernelspec": {
   "display_name": "Python 3",
   "language": "python",
   "name": "python3"
  },
  "language_info": {
   "codemirror_mode": {
    "name": "ipython",
    "version": 3
   },
   "file_extension": ".py",
   "mimetype": "text/x-python",
   "name": "python",
   "nbconvert_exporter": "python",
   "pygments_lexer": "ipython3",
   "version": "3.8.8"
  }
 },
 "nbformat": 4,
 "nbformat_minor": 5
}
