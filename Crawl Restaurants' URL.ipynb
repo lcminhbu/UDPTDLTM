{
 "cells": [
  {
   "cell_type": "code",
   "execution_count": 1,
   "id": "d9974467",
   "metadata": {},
   "outputs": [],
   "source": [
    "from selenium import webdriver\n",
    "from selenium.webdriver.common.keys import Keys\n",
    "import pandas as pd\n",
    "from webdriver_manager.chrome import ChromeDriverManager\n",
    "from selenium.webdriver.common.by import By\n",
    "import copy\n",
    "import time"
   ]
  },
  {
   "cell_type": "markdown",
   "id": "40b12c41",
   "metadata": {},
   "source": [
    "# Global Variables"
   ]
  },
  {
   "cell_type": "code",
   "execution_count": 2,
   "id": "06fd1059",
   "metadata": {
    "scrolled": true
   },
   "outputs": [
    {
     "name": "stderr",
     "output_type": "stream",
     "text": [
      "\n",
      "\n",
      "====== WebDriver manager ======\n",
      "Current google-chrome version is 105.0.5195\n",
      "Get LATEST chromedriver version for 105.0.5195 google-chrome\n",
      "Driver [C:\\Users\\ADMIN\\.wdm\\drivers\\chromedriver\\win32\\105.0.5195.52\\chromedriver.exe] found in cache\n"
     ]
    }
   ],
   "source": [
    "driver = webdriver.Chrome(ChromeDriverManager().install())"
   ]
  },
  {
   "cell_type": "code",
   "execution_count": null,
   "id": "2fffba17",
   "metadata": {},
   "outputs": [],
   "source": [
    "wait_time = 3"
   ]
  },
  {
   "cell_type": "code",
   "execution_count": 62,
   "id": "bbf7efc5",
   "metadata": {},
   "outputs": [
    {
     "data": {
      "text/html": [
       "<div>\n",
       "<style scoped>\n",
       "    .dataframe tbody tr th:only-of-type {\n",
       "        vertical-align: middle;\n",
       "    }\n",
       "\n",
       "    .dataframe tbody tr th {\n",
       "        vertical-align: top;\n",
       "    }\n",
       "\n",
       "    .dataframe thead th {\n",
       "        text-align: right;\n",
       "    }\n",
       "</style>\n",
       "<table border=\"1\" class=\"dataframe\">\n",
       "  <thead>\n",
       "    <tr style=\"text-align: right;\">\n",
       "      <th></th>\n",
       "      <th>City</th>\n",
       "      <th>Restaurant</th>\n",
       "      <th>URL</th>\n",
       "    </tr>\n",
       "  </thead>\n",
       "  <tbody>\n",
       "  </tbody>\n",
       "</table>\n",
       "</div>"
      ],
      "text/plain": [
       "Empty DataFrame\n",
       "Columns: [City, Restaurant, URL]\n",
       "Index: []"
      ]
     },
     "execution_count": 62,
     "metadata": {},
     "output_type": "execute_result"
    }
   ],
   "source": [
    "restaurants_df = pd.DataFrame(columns=['City','Restaurant','URL'])\n",
    "restaurants_df"
   ]
  },
  {
   "cell_type": "code",
   "execution_count": 42,
   "id": "c4d70396",
   "metadata": {},
   "outputs": [
    {
     "data": {
      "text/html": [
       "<div>\n",
       "<style scoped>\n",
       "    .dataframe tbody tr th:only-of-type {\n",
       "        vertical-align: middle;\n",
       "    }\n",
       "\n",
       "    .dataframe tbody tr th {\n",
       "        vertical-align: top;\n",
       "    }\n",
       "\n",
       "    .dataframe thead th {\n",
       "        text-align: right;\n",
       "    }\n",
       "</style>\n",
       "<table border=\"1\" class=\"dataframe\">\n",
       "  <thead>\n",
       "    <tr style=\"text-align: right;\">\n",
       "      <th></th>\n",
       "      <th>City</th>\n",
       "      <th>URL</th>\n",
       "    </tr>\n",
       "  </thead>\n",
       "  <tbody>\n",
       "    <tr>\n",
       "      <th>0</th>\n",
       "      <td>TP. HCM</td>\n",
       "      <td>https://www.foody.vn/ho-chi-minh</td>\n",
       "    </tr>\n",
       "    <tr>\n",
       "      <th>1</th>\n",
       "      <td>Hà Nội</td>\n",
       "      <td>https://www.foody.vn/ha-noi</td>\n",
       "    </tr>\n",
       "    <tr>\n",
       "      <th>2</th>\n",
       "      <td>Đà Nẵng</td>\n",
       "      <td>https://www.foody.vn/da-nang</td>\n",
       "    </tr>\n",
       "    <tr>\n",
       "      <th>3</th>\n",
       "      <td>Cần Thơ</td>\n",
       "      <td>https://www.foody.vn/can-tho</td>\n",
       "    </tr>\n",
       "    <tr>\n",
       "      <th>4</th>\n",
       "      <td>Khánh Hoà</td>\n",
       "      <td>https://www.foody.vn/khanh-hoa</td>\n",
       "    </tr>\n",
       "  </tbody>\n",
       "</table>\n",
       "</div>"
      ],
      "text/plain": [
       "        City                               URL\n",
       "0    TP. HCM  https://www.foody.vn/ho-chi-minh\n",
       "1     Hà Nội       https://www.foody.vn/ha-noi\n",
       "2    Đà Nẵng      https://www.foody.vn/da-nang\n",
       "3    Cần Thơ      https://www.foody.vn/can-tho\n",
       "4  Khánh Hoà    https://www.foody.vn/khanh-hoa"
      ]
     },
     "execution_count": 42,
     "metadata": {},
     "output_type": "execute_result"
    }
   ],
   "source": [
    "city_df = pd.read_csv(\"City_URL.csv\")\n",
    "city_df.head()"
   ]
  },
  {
   "cell_type": "markdown",
   "id": "95721357",
   "metadata": {},
   "source": [
    "# Functions"
   ]
  },
  {
   "cell_type": "code",
   "execution_count": 14,
   "id": "761b7204",
   "metadata": {},
   "outputs": [],
   "source": [
    "def scrollToPageEnd(driver):\n",
    "    SCROLL_PAUSE_TIME = 0.5\n",
    "\n",
    "    # Get scroll height\n",
    "    last_height = driver.execute_script(\"return document.body.scrollHeight\")\n",
    "\n",
    "    while True:\n",
    "        # Scroll down to bottom\n",
    "        driver.execute_script(\"window.scrollTo(0, document.body.scrollHeight);\")\n",
    "\n",
    "        # Wait to load page\n",
    "        time.sleep(SCROLL_PAUSE_TIME)\n",
    "\n",
    "        # Calculate new scroll height and compare with last scroll height\n",
    "        new_height = driver.execute_script(\"return document.body.scrollHeight\")\n",
    "        if new_height == last_height:\n",
    "            break\n",
    "        last_height = new_height"
   ]
  },
  {
   "cell_type": "code",
   "execution_count": 61,
   "id": "c0109913",
   "metadata": {},
   "outputs": [],
   "source": [
    "def createRestaurantsDF(url, city):\n",
    "\n",
    "    driver.get(url)\n",
    "\n",
    "    time.sleep(wait_time)\n",
    "\n",
    "    dummy0 = driver.find_element_by_xpath('//div[@class=\"nav-box\"]')\n",
    "\n",
    "    time.sleep(wait_time)\n",
    "\n",
    "    scrollToPageEnd(driver)\n",
    "\n",
    "    time.sleep(wait_time)\n",
    "\n",
    "    dummy2 = driver.find_element_by_xpath('//*[@id=\"ajaxRequestDiv\"]/div/div[2]')\n",
    "\n",
    "    dummy3 = driver.find_elements_by_xpath('.//div[@class=\"content-item ng-scope\"]')\n",
    "    \n",
    "    temp_df = pd.DataFrame(columns=['City','Restaurant','URL'])\n",
    "    \n",
    "    for elem in dummy3:\n",
    "        record = {\n",
    "            \"City\": city,\n",
    "            \"Restaurant\": elem.find_element_by_xpath('.//div[@class=\"title fd-text-ellip\"]').text,\n",
    "            \"URL\": elem.find_element_by_xpath('.//div[@class=\"title fd-text-ellip\"]/a').get_attribute('href')\n",
    "        }\n",
    "        temp_df = temp_df.append(record, ignore_index=True)\n",
    "     \n",
    "    return temp_df \n"
   ]
  },
  {
   "cell_type": "markdown",
   "id": "a4232a69",
   "metadata": {},
   "source": [
    "# Crawl"
   ]
  },
  {
   "cell_type": "code",
   "execution_count": 63,
   "id": "67089e46",
   "metadata": {},
   "outputs": [
    {
     "data": {
      "text/html": [
       "<div>\n",
       "<style scoped>\n",
       "    .dataframe tbody tr th:only-of-type {\n",
       "        vertical-align: middle;\n",
       "    }\n",
       "\n",
       "    .dataframe tbody tr th {\n",
       "        vertical-align: top;\n",
       "    }\n",
       "\n",
       "    .dataframe thead th {\n",
       "        text-align: right;\n",
       "    }\n",
       "</style>\n",
       "<table border=\"1\" class=\"dataframe\">\n",
       "  <thead>\n",
       "    <tr style=\"text-align: right;\">\n",
       "      <th></th>\n",
       "      <th>City</th>\n",
       "      <th>Restaurant</th>\n",
       "      <th>URL</th>\n",
       "    </tr>\n",
       "  </thead>\n",
       "  <tbody>\n",
       "    <tr>\n",
       "      <th>0</th>\n",
       "      <td>TP. HCM</td>\n",
       "      <td>Biscotti - Bánh Hạt Dinh Dưỡng - Huỳnh Văn Bánh</td>\n",
       "      <td>https://www.foody.vn/ho-chi-minh/biscotti-banh...</td>\n",
       "    </tr>\n",
       "    <tr>\n",
       "      <th>1</th>\n",
       "      <td>TP. HCM</td>\n",
       "      <td>2 Béo - Bánh Sầu Riêng - Shop Online</td>\n",
       "      <td>https://www.foody.vn/ho-chi-minh/2-beo-banh-sa...</td>\n",
       "    </tr>\n",
       "    <tr>\n",
       "      <th>2</th>\n",
       "      <td>TP. HCM</td>\n",
       "      <td>Bánh 9 Sạch - Bánh Sầu Riêng - Bắc Hải</td>\n",
       "      <td>https://www.foody.vn/ho-chi-minh/banh-9-sach-b...</td>\n",
       "    </tr>\n",
       "    <tr>\n",
       "      <th>3</th>\n",
       "      <td>TP. HCM</td>\n",
       "      <td>Biscotti - Bánh Hạt Dinh Dưỡng - Phú Thọ Hòa</td>\n",
       "      <td>https://www.foody.vn/ho-chi-minh/biscotti-banh...</td>\n",
       "    </tr>\n",
       "    <tr>\n",
       "      <th>4</th>\n",
       "      <td>TP. HCM</td>\n",
       "      <td>Bánh 9 Sạch - Bánh Sầu Riêng - Đường Số 7</td>\n",
       "      <td>https://www.foody.vn/ho-chi-minh/banh-9-sach-b...</td>\n",
       "    </tr>\n",
       "    <tr>\n",
       "      <th>...</th>\n",
       "      <td>...</td>\n",
       "      <td>...</td>\n",
       "      <td>...</td>\n",
       "    </tr>\n",
       "    <tr>\n",
       "      <th>4258</th>\n",
       "      <td>Bắc Kạn</td>\n",
       "      <td>Tô Hải Yến</td>\n",
       "      <td>https://www.foody.vn/bac-kan/to-hai-yen</td>\n",
       "    </tr>\n",
       "    <tr>\n",
       "      <th>4259</th>\n",
       "      <td>Lai Châu</td>\n",
       "      <td>Ding Tea - Trần Phú</td>\n",
       "      <td>https://www.foody.vn/lai-chau/ding-tea-tran-phu</td>\n",
       "    </tr>\n",
       "    <tr>\n",
       "      <th>4260</th>\n",
       "      <td>Lai Châu</td>\n",
       "      <td>Mộc Quán - Đường 58</td>\n",
       "      <td>https://www.foody.vn/lai-chau/moc-quan-duong-58</td>\n",
       "    </tr>\n",
       "    <tr>\n",
       "      <th>4261</th>\n",
       "      <td>Lai Châu</td>\n",
       "      <td>Vịt Cỏ Vân Đình</td>\n",
       "      <td>https://www.foody.vn/lai-chau/vit-co-van-dinh</td>\n",
       "    </tr>\n",
       "    <tr>\n",
       "      <th>4262</th>\n",
       "      <td>Lai Châu</td>\n",
       "      <td>A Núi Quán - Giải Khát</td>\n",
       "      <td>https://www.foody.vn/lai-chau/a-nui-quan</td>\n",
       "    </tr>\n",
       "  </tbody>\n",
       "</table>\n",
       "<p>4263 rows × 3 columns</p>\n",
       "</div>"
      ],
      "text/plain": [
       "          City                                       Restaurant  \\\n",
       "0      TP. HCM  Biscotti - Bánh Hạt Dinh Dưỡng - Huỳnh Văn Bánh   \n",
       "1      TP. HCM             2 Béo - Bánh Sầu Riêng - Shop Online   \n",
       "2      TP. HCM           Bánh 9 Sạch - Bánh Sầu Riêng - Bắc Hải   \n",
       "3      TP. HCM     Biscotti - Bánh Hạt Dinh Dưỡng - Phú Thọ Hòa   \n",
       "4      TP. HCM        Bánh 9 Sạch - Bánh Sầu Riêng - Đường Số 7   \n",
       "...        ...                                              ...   \n",
       "4258   Bắc Kạn                                       Tô Hải Yến   \n",
       "4259  Lai Châu                              Ding Tea - Trần Phú   \n",
       "4260  Lai Châu                              Mộc Quán - Đường 58   \n",
       "4261  Lai Châu                                  Vịt Cỏ Vân Đình   \n",
       "4262  Lai Châu                           A Núi Quán - Giải Khát   \n",
       "\n",
       "                                                    URL  \n",
       "0     https://www.foody.vn/ho-chi-minh/biscotti-banh...  \n",
       "1     https://www.foody.vn/ho-chi-minh/2-beo-banh-sa...  \n",
       "2     https://www.foody.vn/ho-chi-minh/banh-9-sach-b...  \n",
       "3     https://www.foody.vn/ho-chi-minh/biscotti-banh...  \n",
       "4     https://www.foody.vn/ho-chi-minh/banh-9-sach-b...  \n",
       "...                                                 ...  \n",
       "4258            https://www.foody.vn/bac-kan/to-hai-yen  \n",
       "4259    https://www.foody.vn/lai-chau/ding-tea-tran-phu  \n",
       "4260    https://www.foody.vn/lai-chau/moc-quan-duong-58  \n",
       "4261      https://www.foody.vn/lai-chau/vit-co-van-dinh  \n",
       "4262           https://www.foody.vn/lai-chau/a-nui-quan  \n",
       "\n",
       "[4263 rows x 3 columns]"
      ]
     },
     "execution_count": 63,
     "metadata": {},
     "output_type": "execute_result"
    }
   ],
   "source": [
    "for index in range(0, city_df.index.max()+1):\n",
    "    row = city_df.loc[index]\n",
    "    temp_df = createRestaurantsDF(row['URL'], row['City'])\n",
    "    \n",
    "    restaurants_df = pd.concat([restaurants_df,temp_df], ignore_index=True)\n",
    "\n",
    "restaurants_df"
   ]
  },
  {
   "cell_type": "code",
   "execution_count": 65,
   "id": "72d017c8",
   "metadata": {},
   "outputs": [],
   "source": [
    "restaurants_df.to_csv(\"Restaurants_URL.csv\", index=False, header=True, columns=restaurants_df.columns)"
   ]
  }
 ],
 "metadata": {
  "kernelspec": {
   "display_name": "Python 3",
   "language": "python",
   "name": "python3"
  },
  "language_info": {
   "codemirror_mode": {
    "name": "ipython",
    "version": 3
   },
   "file_extension": ".py",
   "mimetype": "text/x-python",
   "name": "python",
   "nbconvert_exporter": "python",
   "pygments_lexer": "ipython3",
   "version": "3.8.8"
  }
 },
 "nbformat": 4,
 "nbformat_minor": 5
}
